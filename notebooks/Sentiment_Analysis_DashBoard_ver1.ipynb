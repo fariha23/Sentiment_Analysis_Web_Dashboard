{
 "cells": [
  {
   "cell_type": "code",
   "execution_count": 17,
   "id": "arbitrary-curve",
   "metadata": {},
   "outputs": [
    {
     "name": "stdout",
     "output_type": "stream",
     "text": [
      " * Serving Flask app \"__main__\" (lazy loading)\n",
      " * Environment: production\n",
      "   WARNING: This is a development server. Do not use it in a production deployment.\n",
      "   Use a production WSGI server instead.\n",
      " * Debug mode: off\n"
     ]
    },
    {
     "name": "stderr",
     "output_type": "stream",
     "text": [
      " * Running on http://127.0.0.1:8080/ (Press CTRL+C to quit)\n",
      "127.0.0.1 - - [03/Feb/2021 21:58:56] \"\u001b[37mGET / HTTP/1.1\u001b[0m\" 200 -\n",
      "127.0.0.1 - - [03/Feb/2021 21:58:56] \"\u001b[37mGET /_dash-layout HTTP/1.1\u001b[0m\" 200 -\n",
      "127.0.0.1 - - [03/Feb/2021 21:58:56] \"\u001b[37mGET /_dash-dependencies HTTP/1.1\u001b[0m\" 200 -\n"
     ]
    },
    {
     "name": "stdout",
     "output_type": "stream",
     "text": [
      "I am in get_new_data\n",
      "regenerative agriculture\n",
      "7d\n",
      "I am in get_pushshift_data\n",
      "https://api.pushshift.io/reddit/search/comment/\n",
      "{'q': 'regenerative agriculture', 'after': '7d', 'aggs': 'subreddit', 'size': 1000}\n"
     ]
    },
    {
     "name": "stderr",
     "output_type": "stream",
     "text": [
      "127.0.0.1 - - [03/Feb/2021 21:58:58] \"\u001b[37mPOST /_dash-update-component HTTP/1.1\u001b[0m\" 200 -\n"
     ]
    },
    {
     "name": "stdout",
     "output_type": "stream",
     "text": [
      "I am in json_data\n"
     ]
    }
   ],
   "source": [
    "import pandas as pd\n",
    "import dash\n",
    "import dash_core_components as dcc\n",
    "import dash_html_components as html\n",
    "import dash_table as dt\n",
    "from dash.dependencies import Input, Output, State\n",
    "import requests\n",
    "import textblob\n",
    "import plotly.express as px\n",
    "\n",
    "external_stylesheets = ['https://codepen.io/chriddyp/pen/bWLwgP.css']\n",
    "\n",
    "\n",
    "def get_pushshift_data(data_type, **kwargs):\n",
    "    print(\"I am in get_pushshift_data\")\n",
    "    base_url = f\"https://api.pushshift.io/reddit/search/{data_type}/\"\n",
    "    print(base_url)\n",
    "    payload = kwargs\n",
    "    print(payload)\n",
    "    request = requests.get(base_url, params=payload)\n",
    "    return request.json()\n",
    "\n",
    "app = dash.Dash(__name__, external_stylesheets=external_stylesheets)\n",
    "application = app.server\n",
    "\n",
    "\n",
    "app.layout = html.Div([\n",
    "    html.Div([\n",
    "    html.H2(\"RegAg Analysis Portal\"),\n",
    "    dcc.Input(id='input_1_state', value='regenerative agriculture', type='text'),\n",
    "    #dcc.Dropdown(id='dropdown_1', options=[{'label': i, 'value': i} for i in ['regenerative agriculture', 'organic']], \n",
    "      #           value = 'regenerative agriculture'),\n",
    "             \n",
    "    html.H5(\"Choose number of days for which the data will be collected for?\"),\n",
    "    dcc.Dropdown(id='dropdown_2', options=[{'label': 'A Week Ago', 'value': '7d'}, {'label': ' 2 Weeks Ago', 'value': '14d'},{'label':' A Year Ago','value':'1y'}], \n",
    "                 value = '7d'),   \n",
    "    html.Button(id='submit-button', children='Submit'),\n",
    "        \n",
    "    ],style={'display': 'inline-block', 'vertical-align': 'top', 'margin-left': '3vw', 'margin-top': '3vw', 'width':'5'}),\n",
    "    \n",
    "    html.Div([\n",
    "    html.Div(id=\"table1\"),\n",
    "    dcc.Graph(id='graph1')\n",
    "], style={'display': 'inline-block', 'vertical-align': 'top','margin-left': '3vw', 'margin-top': '3vw', 'width':'5'}) \n",
    "])\n",
    "\n",
    "#], style={'display': 'inline-block', 'vertical-align': 'top', 'margin-left': '3vw', 'margin-top': '3vw', 'margin-bottom':'3vw', 'margin-right':'3vw'} ) \n",
    "\n",
    "\n",
    "\n",
    "@app.callback(Output('table1','children'),\n",
    "              Output('graph1', 'figure'),\n",
    "              \n",
    "              [Input('input_1_state', 'value')],\n",
    "              [Input('dropdown_2', 'value')],\n",
    "              [State('submit-button','n_clicks')]\n",
    "              )\n",
    "\n",
    "def get_new_data(input_1_state_value,dropdown_2_value,n_clicks):\n",
    "    print(\"I am in get_new_data\")\n",
    "    print(input_1_state_value)\n",
    "    print(dropdown_2_value)\n",
    "    json_data=get_pushshift_data(data_type=\"comment\", q=input_1_state_value, after=dropdown_2_value, aggs=\"subreddit\", size=1000)\n",
    "    print(\"I am in json_data\")\n",
    "    data=json_data.get(\"data\")\n",
    "    df = pd.DataFrame(data)\n",
    "    df['count'] = 1\n",
    "    min_df = df[['subreddit', 'count']]\n",
    "    grouped_df = min_df.groupby(['subreddit']).sum()\n",
    "    grouped_df = grouped_df.sort_values(by=['count'], ascending=False)[0:10]\n",
    "    grouped_df = grouped_df.reset_index()\n",
    "    grouped_df.head() #top 5 subreddit where the phrase appears most frequently\n",
    "    columns =  [{\"name\": i, \"id\": i,} for i in (grouped_df.columns)]\n",
    "    \n",
    "    #################\n",
    "   \n",
    "\n",
    "    fig= px.bar(grouped_df,              # our dataframe\n",
    "       x=\"subreddit\",         # x will be the 'key' column of the dataframe\n",
    "       y=\"count\",   # y will be the 'doc_count' column of the dataframe\n",
    "       title=f\"Subreddits with \" + input_1_state_value + \" activity\",\n",
    "       labels={\"count\": \"# comments\",\"subreddit\": \"Subreddits\"}, # the axis names\n",
    "       color_discrete_sequence=[\"blueviolet\"], # the colors used\n",
    "       height=500,\n",
    "       width=800)\n",
    "    #################\n",
    "    return dt.DataTable(data=grouped_df.to_dict('rows'), columns=columns), fig\n",
    "            \n",
    "        \n",
    "if __name__ == '__main__':\n",
    "    application.run(debug=False, port=8080)        "
   ]
  },
  {
   "cell_type": "code",
   "execution_count": null,
   "id": "general-campus",
   "metadata": {},
   "outputs": [],
   "source": []
  },
  {
   "cell_type": "code",
   "execution_count": null,
   "id": "thermal-darwin",
   "metadata": {},
   "outputs": [],
   "source": []
  },
  {
   "cell_type": "code",
   "execution_count": null,
   "id": "processed-spring",
   "metadata": {},
   "outputs": [],
   "source": []
  }
 ],
 "metadata": {
  "kernelspec": {
   "display_name": "Python 3",
   "language": "python",
   "name": "python3"
  },
  "language_info": {
   "codemirror_mode": {
    "name": "ipython",
    "version": 3
   },
   "file_extension": ".py",
   "mimetype": "text/x-python",
   "name": "python",
   "nbconvert_exporter": "python",
   "pygments_lexer": "ipython3",
   "version": "3.7.6"
  }
 },
 "nbformat": 4,
 "nbformat_minor": 5
}
